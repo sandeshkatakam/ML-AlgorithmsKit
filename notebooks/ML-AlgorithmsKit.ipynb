{
 "cells": [
  {
   "cell_type": "code",
   "execution_count": 2,
   "id": "cedb04ce",
   "metadata": {},
   "outputs": [
    {
     "name": "stdout",
     "output_type": "stream",
     "text": [
      "Requirement already satisfied: MLAlgorithmsKit in c:\\users\\sande\\downloads\\mygithub\\mlalgo_testing\\lib\\site-packages (0.0.1)\n",
      "Requirement already satisfied: matplotlib in c:\\users\\sande\\downloads\\mygithub\\mlalgo_testing\\lib\\site-packages (from MLAlgorithmsKit) (3.7.1)\n",
      "Requirement already satisfied: numpy in c:\\users\\sande\\downloads\\mygithub\\mlalgo_testing\\lib\\site-packages (from MLAlgorithmsKit) (1.24.3)\n",
      "Requirement already satisfied: pillow>=6.2.0 in c:\\users\\sande\\downloads\\mygithub\\mlalgo_testing\\lib\\site-packages (from matplotlib->MLAlgorithmsKit) (9.5.0)\n",
      "Requirement already satisfied: packaging>=20.0 in c:\\users\\sande\\downloads\\mygithub\\mlalgo_testing\\lib\\site-packages (from matplotlib->MLAlgorithmsKit) (23.1)\n",
      "Requirement already satisfied: kiwisolver>=1.0.1 in c:\\users\\sande\\downloads\\mygithub\\mlalgo_testing\\lib\\site-packages (from matplotlib->MLAlgorithmsKit) (1.4.4)\n",
      "Requirement already satisfied: contourpy>=1.0.1 in c:\\users\\sande\\downloads\\mygithub\\mlalgo_testing\\lib\\site-packages (from matplotlib->MLAlgorithmsKit) (1.0.7)\n",
      "Requirement already satisfied: cycler>=0.10 in c:\\users\\sande\\downloads\\mygithub\\mlalgo_testing\\lib\\site-packages (from matplotlib->MLAlgorithmsKit) (0.11.0)\n",
      "Requirement already satisfied: fonttools>=4.22.0 in c:\\users\\sande\\downloads\\mygithub\\mlalgo_testing\\lib\\site-packages (from matplotlib->MLAlgorithmsKit) (4.39.4)\n",
      "Requirement already satisfied: pyparsing>=2.3.1 in c:\\users\\sande\\downloads\\mygithub\\mlalgo_testing\\lib\\site-packages (from matplotlib->MLAlgorithmsKit) (3.0.9)\n",
      "Requirement already satisfied: python-dateutil>=2.7 in c:\\users\\sande\\downloads\\mygithub\\mlalgo_testing\\lib\\site-packages (from matplotlib->MLAlgorithmsKit) (2.8.2)\n",
      "Requirement already satisfied: six>=1.5 in c:\\users\\sande\\downloads\\mygithub\\mlalgo_testing\\lib\\site-packages (from python-dateutil>=2.7->matplotlib->MLAlgorithmsKit) (1.16.0)\n"
     ]
    },
    {
     "name": "stderr",
     "output_type": "stream",
     "text": [
      "\n",
      "[notice] A new release of pip is available: 23.0.1 -> 23.1.2\n",
      "[notice] To update, run: python.exe -m pip install --upgrade pip\n"
     ]
    }
   ],
   "source": [
    "!pip install MLAlgorithmsKit"
   ]
  },
  {
   "cell_type": "code",
   "execution_count": 5,
   "id": "2635efc1",
   "metadata": {},
   "outputs": [
    {
     "ename": "ModuleNotFoundError",
     "evalue": "No module named 'MLAlgorithmsKit'",
     "output_type": "error",
     "traceback": [
      "\u001b[1;31m---------------------------------------------------------------------------\u001b[0m",
      "\u001b[1;31mModuleNotFoundError\u001b[0m                       Traceback (most recent call last)",
      "Cell \u001b[1;32mIn[5], line 1\u001b[0m\n\u001b[1;32m----> 1\u001b[0m \u001b[38;5;28;01mfrom\u001b[39;00m \u001b[38;5;21;01mMLAlgorithmsKit\u001b[39;00m\u001b[38;5;21;01m.\u001b[39;00m\u001b[38;5;21;01mNeural_Network\u001b[39;00m \u001b[38;5;28;01mimport\u001b[39;00m Neural_Network\n",
      "\u001b[1;31mModuleNotFoundError\u001b[0m: No module named 'MLAlgorithmsKit'"
     ]
    }
   ],
   "source": [
    "from MLAlgorithmsKit.Neural_Network import Neural_Network"
   ]
  },
  {
   "cell_type": "code",
   "execution_count": null,
   "id": "8ff365b2",
   "metadata": {},
   "outputs": [],
   "source": []
  }
 ],
 "metadata": {
  "kernelspec": {
   "display_name": "Python 3 (ipykernel)",
   "language": "python",
   "name": "python3"
  },
  "language_info": {
   "codemirror_mode": {
    "name": "ipython",
    "version": 3
   },
   "file_extension": ".py",
   "mimetype": "text/x-python",
   "name": "python",
   "nbconvert_exporter": "python",
   "pygments_lexer": "ipython3",
   "version": "3.10.11"
  }
 },
 "nbformat": 4,
 "nbformat_minor": 5
}
